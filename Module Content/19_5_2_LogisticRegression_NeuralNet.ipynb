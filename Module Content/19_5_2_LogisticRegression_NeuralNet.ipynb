{
  "nbformat": 4,
  "nbformat_minor": 0,
  "metadata": {
    "colab": {
      "name": "19.5.2_LogisticRegression_NeuralNet.ipynb",
      "provenance": [],
      "collapsed_sections": []
    },
    "kernelspec": {
      "name": "python3",
      "display_name": "Python 3"
    },
    "language_info": {
      "name": "python"
    }
  },
  "cells": [
    {
      "cell_type": "code",
      "execution_count": 1,
      "metadata": {
        "colab": {
          "base_uri": "https://localhost:8080/"
        },
        "id": "kd7rFapqjObY",
        "outputId": "7ef8c388-c5e8-47c2-9802-4f70ac207276"
      },
      "outputs": [
        {
          "output_type": "stream",
          "name": "stdout",
          "text": [
            "Cloning into 'Neural_Network_Charity_Analysis'...\n",
            "remote: Enumerating objects: 142, done.\u001b[K\n",
            "remote: Counting objects: 100% (142/142), done.\u001b[K\n",
            "remote: Compressing objects: 100% (120/120), done.\u001b[K\n",
            "remote: Total 142 (delta 22), reused 131 (delta 14), pack-reused 0\u001b[K\n",
            "Receiving objects: 100% (142/142), 10.59 MiB | 27.04 MiB/s, done.\n",
            "Resolving deltas: 100% (22/22), done.\n"
          ]
        }
      ],
      "source": [
        "!git clone https://github.com/Jarney903/Neural_Network_Charity_Analysis\n",
        "\n",
        "## try git add, commit, push  "
      ]
    },
    {
      "cell_type": "code",
      "source": [
        "# Import our dependencies\n",
        "from sklearn.model_selection import train_test_split\n",
        "from sklearn.preprocessing import StandardScaler\n",
        "from sklearn.linear_model import LogisticRegression\n",
        "from sklearn.metrics import accuracy_score\n",
        "import pandas as pd\n",
        "import tensorflow as tf\n",
        "\n",
        "# Import our input dataset\n",
        "diabetes_df = pd.read_csv('Neural_Network_Charity_Analysis/Module Content/Resources/diabetes.csv')\n",
        "diabetes_df.head()"
      ],
      "metadata": {
        "colab": {
          "base_uri": "https://localhost:8080/",
          "height": 206
        },
        "id": "i104zozGjr1w",
        "outputId": "2bcf4b55-c54d-4b3c-afd6-c51c976e2b09"
      },
      "execution_count": 2,
      "outputs": [
        {
          "output_type": "execute_result",
          "data": {
            "text/plain": [
              "   Pregnancies  Glucose  BloodPressure  SkinThickness  Insulin   BMI  \\\n",
              "0            6      148             72             35        0  33.6   \n",
              "1            1       85             66             29        0  26.6   \n",
              "2            8      183             64              0        0  23.3   \n",
              "3            1       89             66             23       94  28.1   \n",
              "4            0      137             40             35      168  43.1   \n",
              "\n",
              "   DiabetesPedigreeFunction  Age  Outcome  \n",
              "0                     0.627   50        1  \n",
              "1                     0.351   31        0  \n",
              "2                     0.672   32        1  \n",
              "3                     0.167   21        0  \n",
              "4                     2.288   33        1  "
            ],
            "text/html": [
              "\n",
              "  <div id=\"df-68c85a53-ab26-43e2-9d03-106ecd856eff\">\n",
              "    <div class=\"colab-df-container\">\n",
              "      <div>\n",
              "<style scoped>\n",
              "    .dataframe tbody tr th:only-of-type {\n",
              "        vertical-align: middle;\n",
              "    }\n",
              "\n",
              "    .dataframe tbody tr th {\n",
              "        vertical-align: top;\n",
              "    }\n",
              "\n",
              "    .dataframe thead th {\n",
              "        text-align: right;\n",
              "    }\n",
              "</style>\n",
              "<table border=\"1\" class=\"dataframe\">\n",
              "  <thead>\n",
              "    <tr style=\"text-align: right;\">\n",
              "      <th></th>\n",
              "      <th>Pregnancies</th>\n",
              "      <th>Glucose</th>\n",
              "      <th>BloodPressure</th>\n",
              "      <th>SkinThickness</th>\n",
              "      <th>Insulin</th>\n",
              "      <th>BMI</th>\n",
              "      <th>DiabetesPedigreeFunction</th>\n",
              "      <th>Age</th>\n",
              "      <th>Outcome</th>\n",
              "    </tr>\n",
              "  </thead>\n",
              "  <tbody>\n",
              "    <tr>\n",
              "      <th>0</th>\n",
              "      <td>6</td>\n",
              "      <td>148</td>\n",
              "      <td>72</td>\n",
              "      <td>35</td>\n",
              "      <td>0</td>\n",
              "      <td>33.6</td>\n",
              "      <td>0.627</td>\n",
              "      <td>50</td>\n",
              "      <td>1</td>\n",
              "    </tr>\n",
              "    <tr>\n",
              "      <th>1</th>\n",
              "      <td>1</td>\n",
              "      <td>85</td>\n",
              "      <td>66</td>\n",
              "      <td>29</td>\n",
              "      <td>0</td>\n",
              "      <td>26.6</td>\n",
              "      <td>0.351</td>\n",
              "      <td>31</td>\n",
              "      <td>0</td>\n",
              "    </tr>\n",
              "    <tr>\n",
              "      <th>2</th>\n",
              "      <td>8</td>\n",
              "      <td>183</td>\n",
              "      <td>64</td>\n",
              "      <td>0</td>\n",
              "      <td>0</td>\n",
              "      <td>23.3</td>\n",
              "      <td>0.672</td>\n",
              "      <td>32</td>\n",
              "      <td>1</td>\n",
              "    </tr>\n",
              "    <tr>\n",
              "      <th>3</th>\n",
              "      <td>1</td>\n",
              "      <td>89</td>\n",
              "      <td>66</td>\n",
              "      <td>23</td>\n",
              "      <td>94</td>\n",
              "      <td>28.1</td>\n",
              "      <td>0.167</td>\n",
              "      <td>21</td>\n",
              "      <td>0</td>\n",
              "    </tr>\n",
              "    <tr>\n",
              "      <th>4</th>\n",
              "      <td>0</td>\n",
              "      <td>137</td>\n",
              "      <td>40</td>\n",
              "      <td>35</td>\n",
              "      <td>168</td>\n",
              "      <td>43.1</td>\n",
              "      <td>2.288</td>\n",
              "      <td>33</td>\n",
              "      <td>1</td>\n",
              "    </tr>\n",
              "  </tbody>\n",
              "</table>\n",
              "</div>\n",
              "      <button class=\"colab-df-convert\" onclick=\"convertToInteractive('df-68c85a53-ab26-43e2-9d03-106ecd856eff')\"\n",
              "              title=\"Convert this dataframe to an interactive table.\"\n",
              "              style=\"display:none;\">\n",
              "        \n",
              "  <svg xmlns=\"http://www.w3.org/2000/svg\" height=\"24px\"viewBox=\"0 0 24 24\"\n",
              "       width=\"24px\">\n",
              "    <path d=\"M0 0h24v24H0V0z\" fill=\"none\"/>\n",
              "    <path d=\"M18.56 5.44l.94 2.06.94-2.06 2.06-.94-2.06-.94-.94-2.06-.94 2.06-2.06.94zm-11 1L8.5 8.5l.94-2.06 2.06-.94-2.06-.94L8.5 2.5l-.94 2.06-2.06.94zm10 10l.94 2.06.94-2.06 2.06-.94-2.06-.94-.94-2.06-.94 2.06-2.06.94z\"/><path d=\"M17.41 7.96l-1.37-1.37c-.4-.4-.92-.59-1.43-.59-.52 0-1.04.2-1.43.59L10.3 9.45l-7.72 7.72c-.78.78-.78 2.05 0 2.83L4 21.41c.39.39.9.59 1.41.59.51 0 1.02-.2 1.41-.59l7.78-7.78 2.81-2.81c.8-.78.8-2.07 0-2.86zM5.41 20L4 18.59l7.72-7.72 1.47 1.35L5.41 20z\"/>\n",
              "  </svg>\n",
              "      </button>\n",
              "      \n",
              "  <style>\n",
              "    .colab-df-container {\n",
              "      display:flex;\n",
              "      flex-wrap:wrap;\n",
              "      gap: 12px;\n",
              "    }\n",
              "\n",
              "    .colab-df-convert {\n",
              "      background-color: #E8F0FE;\n",
              "      border: none;\n",
              "      border-radius: 50%;\n",
              "      cursor: pointer;\n",
              "      display: none;\n",
              "      fill: #1967D2;\n",
              "      height: 32px;\n",
              "      padding: 0 0 0 0;\n",
              "      width: 32px;\n",
              "    }\n",
              "\n",
              "    .colab-df-convert:hover {\n",
              "      background-color: #E2EBFA;\n",
              "      box-shadow: 0px 1px 2px rgba(60, 64, 67, 0.3), 0px 1px 3px 1px rgba(60, 64, 67, 0.15);\n",
              "      fill: #174EA6;\n",
              "    }\n",
              "\n",
              "    [theme=dark] .colab-df-convert {\n",
              "      background-color: #3B4455;\n",
              "      fill: #D2E3FC;\n",
              "    }\n",
              "\n",
              "    [theme=dark] .colab-df-convert:hover {\n",
              "      background-color: #434B5C;\n",
              "      box-shadow: 0px 1px 3px 1px rgba(0, 0, 0, 0.15);\n",
              "      filter: drop-shadow(0px 1px 2px rgba(0, 0, 0, 0.3));\n",
              "      fill: #FFFFFF;\n",
              "    }\n",
              "  </style>\n",
              "\n",
              "      <script>\n",
              "        const buttonEl =\n",
              "          document.querySelector('#df-68c85a53-ab26-43e2-9d03-106ecd856eff button.colab-df-convert');\n",
              "        buttonEl.style.display =\n",
              "          google.colab.kernel.accessAllowed ? 'block' : 'none';\n",
              "\n",
              "        async function convertToInteractive(key) {\n",
              "          const element = document.querySelector('#df-68c85a53-ab26-43e2-9d03-106ecd856eff');\n",
              "          const dataTable =\n",
              "            await google.colab.kernel.invokeFunction('convertToInteractive',\n",
              "                                                     [key], {});\n",
              "          if (!dataTable) return;\n",
              "\n",
              "          const docLinkHtml = 'Like what you see? Visit the ' +\n",
              "            '<a target=\"_blank\" href=https://colab.research.google.com/notebooks/data_table.ipynb>data table notebook</a>'\n",
              "            + ' to learn more about interactive tables.';\n",
              "          element.innerHTML = '';\n",
              "          dataTable['output_type'] = 'display_data';\n",
              "          await google.colab.output.renderOutput(dataTable, element);\n",
              "          const docLink = document.createElement('div');\n",
              "          docLink.innerHTML = docLinkHtml;\n",
              "          element.appendChild(docLink);\n",
              "        }\n",
              "      </script>\n",
              "    </div>\n",
              "  </div>\n",
              "  "
            ]
          },
          "metadata": {},
          "execution_count": 2
        }
      ]
    },
    {
      "cell_type": "markdown",
      "source": [
        "Now that we have our dataset loaded into Pandas, we need to prepare the data to train both models. With our logistic regression model, there is no preprocessing or scaling required for the data. However, our basic neural network needs the numerical variables standardized. Therefore, we'll need to keep track of a scaled and unscaled training dataset such that both models have the correct input data in their preferred formats. To split the data, we need to add and run the following code:"
      ],
      "metadata": {
        "id": "kujI3CypkI-S"
      }
    },
    {
      "cell_type": "code",
      "source": [
        "# Remove diabetes outcome target from features data\n",
        "y = diabetes_df.Outcome\n",
        "X = diabetes_df.drop(columns=\"Outcome\")\n",
        "\n",
        "# Split training/test datasets\n",
        "X_train, X_test, y_train, y_test = train_test_split(X, y, random_state=42, stratify=y)"
      ],
      "metadata": {
        "id": "K7-WiRZkjr-D"
      },
      "execution_count": 3,
      "outputs": []
    },
    {
      "cell_type": "markdown",
      "source": [
        "Next, we need to standardize the numerical variables using Scikit-learn's StandardScaler class. To standardize our data, we need to add and run the following code:"
      ],
      "metadata": {
        "id": "pRf5w7RfkP8m"
      }
    },
    {
      "cell_type": "code",
      "source": [
        "# Preprocess numerical data for neural network\n",
        "\n",
        "# Create a StandardScaler instance\n",
        "scaler = StandardScaler()\n",
        "\n",
        "# Fit the StandardScaler\n",
        "X_scaler = scaler.fit(X_train)\n",
        "\n",
        "# Scale the data\n",
        "X_train_scaled = X_scaler.transform(X_train)\n",
        "X_test_scaled = X_scaler.transform(X_test)"
      ],
      "metadata": {
        "id": "y0RFLFdakRJA"
      },
      "execution_count": 6,
      "outputs": []
    },
    {
      "cell_type": "markdown",
      "source": [
        "Now we're ready to train and evaluate our models. \n",
        "\n",
        "We'll first start with our **logistic regression model.**\n",
        "\n",
        "REWIND\n",
        "Logistic regression models can be built using Scikit-learn's LogisticRegression class in the linear_model module.\n",
        "\n",
        "For our purposes, we'll use our basic logistic regression parameters, which include:\n",
        "\n",
        "The solver parameter is set to 'lbfgs', which is an algorithm for learning and optimization. The particular solver isn't very important in this example, but note that a number of optimizers exist.\n",
        "The max_iter parameter will be set to 200 iterations, which will give the model sufficient opportunity to converge on effective weights\n",
        "Putting all of our arguments together, we'll add and run the following code in the notebook:"
      ],
      "metadata": {
        "id": "ilGHNMw_kYxV"
      }
    },
    {
      "cell_type": "code",
      "source": [
        "# Define the logistic regression model\n",
        "log_classifier = LogisticRegression(solver=\"lbfgs\",max_iter=200)\n",
        "\n",
        "# Train the model\n",
        "log_classifier.fit(X_train,y_train)\n",
        "\n",
        "# Evaluate the model\n",
        "y_pred = log_classifier.predict(X_test)\n",
        "print(f\" Logistic regression model accuracy: {accuracy_score(y_test,y_pred):.3f}\")"
      ],
      "metadata": {
        "colab": {
          "base_uri": "https://localhost:8080/"
        },
        "id": "LKYaNQ5CkRVP",
        "outputId": "eef2fa51-5e64-4a4c-ae42-83f6ca13f99e"
      },
      "execution_count": 7,
      "outputs": [
        {
          "output_type": "stream",
          "name": "stdout",
          "text": [
            " Logistic regression model accuracy: 0.729\n"
          ]
        }
      ]
    },
    {
      "cell_type": "markdown",
      "source": [
        "Next, we need to build, compile, and evaluate our basic **neural network model**. \n",
        "\n",
        "Again, we'll use our typical binary classifier parameters:\n",
        "\n",
        "Our single hidden layer will have an input_dim equal to 8, 16 neuron units, and will use the relu activation function.\n",
        "The loss function should be binary_crossentropy, using the adam optimizer.\n",
        "Our model should provide the additional accuracy scoring metric and train over a maximum of 50 epochs."
      ],
      "metadata": {
        "id": "d5HRwB9skmVw"
      }
    },
    {
      "cell_type": "code",
      "source": [
        "# Define the basic neural network model\n",
        "nn_model = tf.keras.models.Sequential()\n",
        "nn_model.add(tf.keras.layers.Dense(units=16, activation=\"relu\", input_dim=8))\n",
        "nn_model.add(tf.keras.layers.Dense(units=1, activation=\"sigmoid\"))\n",
        "\n",
        "# Compile the Sequential model together and customize metrics\n",
        "nn_model.compile(loss=\"binary_crossentropy\", optimizer=\"adam\", metrics=[\"accuracy\"])\n",
        "\n",
        "# Train the model\n",
        "fit_model = nn_model.fit(X_train_scaled, y_train, epochs=50)\n",
        "\n",
        "# Evaluate the model using the test data\n",
        "model_loss, model_accuracy = nn_model.evaluate(X_test_scaled,y_test,verbose=2)\n",
        "print(f\"Loss: {model_loss}, Accuracy: {model_accuracy}\")"
      ],
      "metadata": {
        "colab": {
          "base_uri": "https://localhost:8080/"
        },
        "id": "2r6isdaokRdZ",
        "outputId": "fe920e41-85b0-453f-c436-6ecb7ec0bcc2"
      },
      "execution_count": 8,
      "outputs": [
        {
          "output_type": "stream",
          "name": "stdout",
          "text": [
            "Epoch 1/50\n",
            "18/18 [==============================] - 2s 8ms/step - loss: 0.6422 - accuracy: 0.6389\n",
            "Epoch 2/50\n",
            "18/18 [==============================] - 0s 5ms/step - loss: 0.6089 - accuracy: 0.6736\n",
            "Epoch 3/50\n",
            "18/18 [==============================] - 0s 5ms/step - loss: 0.5821 - accuracy: 0.6927\n",
            "Epoch 4/50\n",
            "18/18 [==============================] - 0s 4ms/step - loss: 0.5611 - accuracy: 0.7222\n",
            "Epoch 5/50\n",
            "18/18 [==============================] - 0s 4ms/step - loss: 0.5433 - accuracy: 0.7413\n",
            "Epoch 6/50\n",
            "18/18 [==============================] - 0s 2ms/step - loss: 0.5291 - accuracy: 0.7483\n",
            "Epoch 7/50\n",
            "18/18 [==============================] - 0s 3ms/step - loss: 0.5173 - accuracy: 0.7517\n",
            "Epoch 8/50\n",
            "18/18 [==============================] - 0s 3ms/step - loss: 0.5073 - accuracy: 0.7604\n",
            "Epoch 9/50\n",
            "18/18 [==============================] - 0s 5ms/step - loss: 0.4990 - accuracy: 0.7674\n",
            "Epoch 10/50\n",
            "18/18 [==============================] - 0s 7ms/step - loss: 0.4921 - accuracy: 0.7708\n",
            "Epoch 11/50\n",
            "18/18 [==============================] - 0s 4ms/step - loss: 0.4861 - accuracy: 0.7691\n",
            "Epoch 12/50\n",
            "18/18 [==============================] - 0s 6ms/step - loss: 0.4812 - accuracy: 0.7812\n",
            "Epoch 13/50\n",
            "18/18 [==============================] - 0s 5ms/step - loss: 0.4765 - accuracy: 0.7830\n",
            "Epoch 14/50\n",
            "18/18 [==============================] - 0s 7ms/step - loss: 0.4731 - accuracy: 0.7830\n",
            "Epoch 15/50\n",
            "18/18 [==============================] - 0s 5ms/step - loss: 0.4700 - accuracy: 0.7830\n",
            "Epoch 16/50\n",
            "18/18 [==============================] - 0s 6ms/step - loss: 0.4671 - accuracy: 0.7812\n",
            "Epoch 17/50\n",
            "18/18 [==============================] - 0s 7ms/step - loss: 0.4642 - accuracy: 0.7830\n",
            "Epoch 18/50\n",
            "18/18 [==============================] - 0s 5ms/step - loss: 0.4617 - accuracy: 0.7830\n",
            "Epoch 19/50\n",
            "18/18 [==============================] - 0s 7ms/step - loss: 0.4598 - accuracy: 0.7830\n",
            "Epoch 20/50\n",
            "18/18 [==============================] - 0s 3ms/step - loss: 0.4583 - accuracy: 0.7830\n",
            "Epoch 21/50\n",
            "18/18 [==============================] - 0s 6ms/step - loss: 0.4558 - accuracy: 0.7830\n",
            "Epoch 22/50\n",
            "18/18 [==============================] - 0s 5ms/step - loss: 0.4546 - accuracy: 0.7847\n",
            "Epoch 23/50\n",
            "18/18 [==============================] - 0s 7ms/step - loss: 0.4530 - accuracy: 0.7830\n",
            "Epoch 24/50\n",
            "18/18 [==============================] - 0s 6ms/step - loss: 0.4516 - accuracy: 0.7847\n",
            "Epoch 25/50\n",
            "18/18 [==============================] - 0s 2ms/step - loss: 0.4503 - accuracy: 0.7847\n",
            "Epoch 26/50\n",
            "18/18 [==============================] - 0s 3ms/step - loss: 0.4494 - accuracy: 0.7830\n",
            "Epoch 27/50\n",
            "18/18 [==============================] - 0s 4ms/step - loss: 0.4482 - accuracy: 0.7830\n",
            "Epoch 28/50\n",
            "18/18 [==============================] - 0s 2ms/step - loss: 0.4469 - accuracy: 0.7830\n",
            "Epoch 29/50\n",
            "18/18 [==============================] - 0s 2ms/step - loss: 0.4459 - accuracy: 0.7847\n",
            "Epoch 30/50\n",
            "18/18 [==============================] - 0s 2ms/step - loss: 0.4452 - accuracy: 0.7847\n",
            "Epoch 31/50\n",
            "18/18 [==============================] - 0s 4ms/step - loss: 0.4446 - accuracy: 0.7847\n",
            "Epoch 32/50\n",
            "18/18 [==============================] - 0s 4ms/step - loss: 0.4439 - accuracy: 0.7847\n",
            "Epoch 33/50\n",
            "18/18 [==============================] - 0s 4ms/step - loss: 0.4430 - accuracy: 0.7865\n",
            "Epoch 34/50\n",
            "18/18 [==============================] - 0s 3ms/step - loss: 0.4423 - accuracy: 0.7865\n",
            "Epoch 35/50\n",
            "18/18 [==============================] - 0s 5ms/step - loss: 0.4415 - accuracy: 0.7865\n",
            "Epoch 36/50\n",
            "18/18 [==============================] - 0s 4ms/step - loss: 0.4410 - accuracy: 0.7882\n",
            "Epoch 37/50\n",
            "18/18 [==============================] - 0s 4ms/step - loss: 0.4400 - accuracy: 0.7899\n",
            "Epoch 38/50\n",
            "18/18 [==============================] - 0s 3ms/step - loss: 0.4394 - accuracy: 0.7899\n",
            "Epoch 39/50\n",
            "18/18 [==============================] - 0s 5ms/step - loss: 0.4387 - accuracy: 0.7899\n",
            "Epoch 40/50\n",
            "18/18 [==============================] - 0s 4ms/step - loss: 0.4383 - accuracy: 0.7917\n",
            "Epoch 41/50\n",
            "18/18 [==============================] - 0s 6ms/step - loss: 0.4373 - accuracy: 0.7917\n",
            "Epoch 42/50\n",
            "18/18 [==============================] - 0s 5ms/step - loss: 0.4367 - accuracy: 0.7934\n",
            "Epoch 43/50\n",
            "18/18 [==============================] - 0s 3ms/step - loss: 0.4362 - accuracy: 0.7934\n",
            "Epoch 44/50\n",
            "18/18 [==============================] - 0s 2ms/step - loss: 0.4355 - accuracy: 0.7951\n",
            "Epoch 45/50\n",
            "18/18 [==============================] - 0s 6ms/step - loss: 0.4350 - accuracy: 0.7986\n",
            "Epoch 46/50\n",
            "18/18 [==============================] - 0s 3ms/step - loss: 0.4343 - accuracy: 0.8003\n",
            "Epoch 47/50\n",
            "18/18 [==============================] - 0s 3ms/step - loss: 0.4337 - accuracy: 0.8003\n",
            "Epoch 48/50\n",
            "18/18 [==============================] - 0s 2ms/step - loss: 0.4336 - accuracy: 0.8003\n",
            "Epoch 49/50\n",
            "18/18 [==============================] - 0s 4ms/step - loss: 0.4325 - accuracy: 0.8038\n",
            "Epoch 50/50\n",
            "18/18 [==============================] - 0s 2ms/step - loss: 0.4320 - accuracy: 0.8038\n",
            "6/6 - 0s - loss: 0.4780 - accuracy: 0.7500 - 350ms/epoch - 58ms/step\n",
            "Loss: 0.4779503643512726, Accuracy: 0.75\n"
          ]
        }
      ]
    },
    {
      "cell_type": "code",
      "source": [
        ""
      ],
      "metadata": {
        "id": "AGpZ6IVklSs6"
      },
      "execution_count": null,
      "outputs": []
    },
    {
      "cell_type": "markdown",
      "source": [
        ""
      ],
      "metadata": {
        "id": "SfiHgPMnkHry"
      }
    }
  ]
}